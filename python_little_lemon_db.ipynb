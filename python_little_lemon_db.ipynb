{
 "cells": [
  {
   "cell_type": "code",
   "execution_count": 1,
   "id": "460cce50-2264-4ec9-b6de-cde63b40a149",
   "metadata": {},
   "outputs": [
    {
     "name": "stdout",
     "output_type": "stream",
     "text": [
      "Requirement already satisfied: mysql-connector-python in c:\\users\\aashi\\appdata\\local\\programs\\python\\python313\\lib\\site-packages (9.3.0)\n"
     ]
    }
   ],
   "source": [
    "!pip install mysql-connector-python\n"
   ]
  },
  {
   "cell_type": "code",
   "execution_count": 2,
   "id": "880d969c-a09f-49df-9e5e-69c93ea9caff",
   "metadata": {},
   "outputs": [],
   "source": [
    "import mysql.connector as connector\n"
   ]
  },
  {
   "cell_type": "code",
   "execution_count": 6,
   "id": "f35c9238-c03a-4070-b9a8-86cc9e53142c",
   "metadata": {},
   "outputs": [],
   "source": [
    "connection = connector.connect(\n",
    "    user = \"adminlittlelemon\",\n",
    "    password = \"littlelemonnew673*\",\n",
    "    database=\"little_lemon_db\"\n",
    ")\n",
    "\n",
    "# Step 3: Create a cursor object\n",
    "cursor = connection.cursor()\n",
    "\n"
   ]
  },
  {
   "cell_type": "code",
   "execution_count": 7,
   "id": "de6c9c15-06dc-4e9e-b62e-b8d0aac3d216",
   "metadata": {},
   "outputs": [
    {
     "name": "stdout",
     "output_type": "stream",
     "text": [
      "Tables in the database:\n",
      "bookings\n",
      "customer\n",
      "deliverystatus\n",
      "employees\n",
      "menuitems\n",
      "menus\n",
      "orders\n",
      "ordersview\n"
     ]
    }
   ],
   "source": [
    "# Define the query\n",
    "show_tables_query = \"SHOW TABLES\"\n",
    "\n",
    "# Execute the query\n",
    "cursor.execute(show_tables_query)\n",
    "\n",
    "# Fetch and print the results\n",
    "results = cursor.fetchall()\n",
    "print(\"Tables in the database:\")\n",
    "for table in results:\n",
    "    print(table[0])\n"
   ]
  },
  {
   "cell_type": "code",
   "execution_count": 10,
   "id": "06ba1a68-6b34-4db7-a78f-8285b65b2d93",
   "metadata": {},
   "outputs": [
    {
     "name": "stdout",
     "output_type": "stream",
     "text": [
      "Customers with orders over $60:\n",
      "Name: Anna, Contact: Iversen, Total Bill: $86\n",
      "Name: Joakim, Contact: Iversen, Total Bill: $160\n",
      "Name: Hiroki, Contact: Yamane, Total Bill: $270\n"
     ]
    }
   ],
   "source": [
    "# Define the query with a JOIN and filter condition\n",
    "query = \"\"\"\n",
    "SELECT \n",
    "    customer.FirstName,\n",
    "    customer.LastName,\n",
    "    orders.BillAmount\n",
    "FROM \n",
    "    customer\n",
    "JOIN \n",
    "    Bookings ON customer.CustomerID = Bookings.CustomerID\n",
    "JOIN \n",
    "    orders ON Bookings.BookingID = Orders.BookingID\n",
    "WHERE \n",
    "    orders.BillAmount > 60\n",
    "\"\"\"\n",
    "# Execute the updated JOIN query\n",
    "cursor.execute(query)\n",
    "\n",
    "# Fetch and display results\n",
    "results = cursor.fetchall()\n",
    "\n",
    "print(\"Customers with orders over $60:\")\n",
    "for row in results:\n",
    "    print(f\"Name: {row[0]}, Contact: {row[1]}, Total Bill: ${row[2]}\")\n"
   ]
  },
  {
   "cell_type": "code",
   "execution_count": null,
   "id": "ca037aa1-edf2-4119-bb24-6afc4ad05369",
   "metadata": {},
   "outputs": [],
   "source": []
  }
 ],
 "metadata": {
  "kernelspec": {
   "display_name": "Python 3 (ipykernel)",
   "language": "python",
   "name": "python3"
  },
  "language_info": {
   "codemirror_mode": {
    "name": "ipython",
    "version": 3
   },
   "file_extension": ".py",
   "mimetype": "text/x-python",
   "name": "python",
   "nbconvert_exporter": "python",
   "pygments_lexer": "ipython3",
   "version": "3.13.2"
  }
 },
 "nbformat": 4,
 "nbformat_minor": 5
}
